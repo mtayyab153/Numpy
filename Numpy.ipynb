{
 "cells": [
  {
   "cell_type": "markdown",
   "id": "e74e3d51-0c42-45c5-b743-c587600890ea",
   "metadata": {},
   "source": [
    "# Creating Numpy nd-arrays START"
   ]
  },
  {
   "cell_type": "code",
   "execution_count": 2,
   "id": "f13951d4-5c0d-4621-a41d-60bd5ad3724a",
   "metadata": {},
   "outputs": [],
   "source": [
    "import numpy as np"
   ]
  },
  {
   "cell_type": "markdown",
   "id": "a2ba214f-bd49-4b47-91bf-e0811a8e2984",
   "metadata": {},
   "source": [
    "### First Method"
   ]
  },
  {
   "cell_type": "code",
   "execution_count": 6,
   "id": "05a082ce-ef6c-4d97-b769-682ee53442af",
   "metadata": {},
   "outputs": [
    {
     "data": {
      "text/plain": [
       "array([1, 2, 3, 4, 5])"
      ]
     },
     "execution_count": 6,
     "metadata": {},
     "output_type": "execute_result"
    }
   ],
   "source": [
    "arr1 = np.array([1,2,3,4,5])\n",
    "arr1"
   ]
  },
  {
   "cell_type": "code",
   "execution_count": 7,
   "id": "c3bc780d-21f6-437c-adcf-8d530f4e299e",
   "metadata": {},
   "outputs": [
    {
     "data": {
      "text/plain": [
       "array([[1, 2, 3],\n",
       "       [4, 5, 6]])"
      ]
     },
     "execution_count": 7,
     "metadata": {},
     "output_type": "execute_result"
    }
   ],
   "source": [
    "arr2 = np.array([[1,2,3],[4,5,6]])\n",
    "arr2"
   ]
  },
  {
   "cell_type": "code",
   "execution_count": null,
   "id": "eb984fae-2ce2-4573-aa2f-273593619c23",
   "metadata": {},
   "outputs": [],
   "source": []
  },
  {
   "cell_type": "markdown",
   "id": "7882fa13-2c10-4faf-ae13-cf3116d9347b",
   "metadata": {},
   "source": [
    "### Second Method"
   ]
  },
  {
   "cell_type": "code",
   "execution_count": 8,
   "id": "8fd0bc54-1467-4af8-8ed4-eca86e2def2e",
   "metadata": {},
   "outputs": [
    {
     "data": {
      "text/plain": [
       "array([[0., 0., 0.],\n",
       "       [0., 0., 0.]])"
      ]
     },
     "execution_count": 8,
     "metadata": {},
     "output_type": "execute_result"
    }
   ],
   "source": [
    "arr3 = np.zeros((2,3))\n",
    "arr3"
   ]
  },
  {
   "cell_type": "code",
   "execution_count": 10,
   "id": "29b0f75e-47d0-4638-9b65-8b3cd49f1fe5",
   "metadata": {},
   "outputs": [
    {
     "data": {
      "text/plain": [
       "array([[1., 1., 1.],\n",
       "       [1., 1., 1.],\n",
       "       [1., 1., 1.]])"
      ]
     },
     "execution_count": 10,
     "metadata": {},
     "output_type": "execute_result"
    }
   ],
   "source": [
    "arr4 = np.ones((3,3))\n",
    "arr4"
   ]
  },
  {
   "cell_type": "markdown",
   "id": "01ad224c-f5a7-4fe2-8bd5-311b680cecdb",
   "metadata": {},
   "source": [
    "### Third Method"
   ]
  },
  {
   "cell_type": "code",
   "execution_count": 11,
   "id": "92043cc7-44df-4a4e-ade0-40b75892ecf9",
   "metadata": {},
   "outputs": [
    {
     "data": {
      "text/plain": [
       "array([[1., 0., 0., 0., 0.],\n",
       "       [0., 1., 0., 0., 0.],\n",
       "       [0., 0., 1., 0., 0.],\n",
       "       [0., 0., 0., 1., 0.],\n",
       "       [0., 0., 0., 0., 1.]])"
      ]
     },
     "execution_count": 11,
     "metadata": {},
     "output_type": "execute_result"
    }
   ],
   "source": [
    "arr5 = np.identity(5)\n",
    "arr5"
   ]
  },
  {
   "cell_type": "markdown",
   "id": "b925570b-d191-47ef-8f57-6615a55f6916",
   "metadata": {},
   "source": [
    "### Fourth Method"
   ]
  },
  {
   "cell_type": "code",
   "execution_count": 15,
   "id": "0b618587-372a-4b2e-8133-36c14c2b915f",
   "metadata": {},
   "outputs": [
    {
     "data": {
      "text/plain": [
       "array([0, 1, 2, 3, 4, 5, 6, 7, 8, 9])"
      ]
     },
     "execution_count": 15,
     "metadata": {},
     "output_type": "execute_result"
    }
   ],
   "source": [
    "# similar to range slicing \n",
    "arr6 = np.arange(10)\n",
    "# arr6 = np.arange(10,30)\n",
    "# arr6 = np.arange(1,20,2)\n",
    "arr6"
   ]
  },
  {
   "cell_type": "markdown",
   "id": "84b71086-5d93-49e0-9e3b-55e0eeaff26a",
   "metadata": {},
   "source": [
    "### Fifth Method"
   ]
  },
  {
   "cell_type": "code",
   "execution_count": 18,
   "id": "fcff3f35-2afb-4427-972b-2a22e0396b21",
   "metadata": {},
   "outputs": [
    {
     "data": {
      "text/plain": [
       "array([10.        , 11.11111111, 12.22222222, 13.33333333, 14.44444444,\n",
       "       15.55555556, 16.66666667, 17.77777778, 18.88888889, 20.        ])"
      ]
     },
     "execution_count": 18,
     "metadata": {},
     "output_type": "execute_result"
    }
   ],
   "source": [
    "arr7 = np.linspace(10,20,10)\n",
    "arr7"
   ]
  },
  {
   "cell_type": "markdown",
   "id": "1818536d-936a-4848-b83c-a72adf829c1e",
   "metadata": {},
   "source": [
    "### Sixth Method"
   ]
  },
  {
   "cell_type": "code",
   "execution_count": 19,
   "id": "0ab196a9-9ae4-4a6d-9e62-66cba0ea310a",
   "metadata": {},
   "outputs": [
    {
     "data": {
      "text/plain": [
       "array([10.        , 11.11111111, 12.22222222, 13.33333333, 14.44444444,\n",
       "       15.55555556, 16.66666667, 17.77777778, 18.88888889, 20.        ])"
      ]
     },
     "execution_count": 19,
     "metadata": {},
     "output_type": "execute_result"
    }
   ],
   "source": [
    "arr8 = arr7.copy()\n",
    "arr8"
   ]
  },
  {
   "cell_type": "markdown",
   "id": "d53a71bb-fcf1-44a1-b1da-e2dacc788f7f",
   "metadata": {},
   "source": [
    "# Creating Numpy nd-arrays END"
   ]
  },
  {
   "cell_type": "code",
   "execution_count": null,
   "id": "f02c6f0f-fa3b-4e8a-9e0a-ba9ec48de24e",
   "metadata": {},
   "outputs": [],
   "source": []
  },
  {
   "cell_type": "markdown",
   "id": "d7e6d938-4da1-475d-a14d-de6f41766acc",
   "metadata": {},
   "source": [
    "# Numpy Array Properties and Attributes START"
   ]
  },
  {
   "cell_type": "code",
   "execution_count": 22,
   "id": "9a7f9f28-7cc9-4d3b-bf03-121fb7b91da3",
   "metadata": {},
   "outputs": [
    {
     "data": {
      "text/plain": [
       "(2, 3)"
      ]
     },
     "execution_count": 22,
     "metadata": {},
     "output_type": "execute_result"
    }
   ],
   "source": [
    "arr2.shape"
   ]
  },
  {
   "cell_type": "code",
   "execution_count": 23,
   "id": "091a02a0-2dab-46df-89f0-166468ab63fe",
   "metadata": {},
   "outputs": [
    {
     "data": {
      "text/plain": [
       "2"
      ]
     },
     "execution_count": 23,
     "metadata": {},
     "output_type": "execute_result"
    }
   ],
   "source": [
    "arr2.ndim"
   ]
  },
  {
   "cell_type": "code",
   "execution_count": 24,
   "id": "2b659020-ab9a-4aae-9390-ad5ca05e8d5f",
   "metadata": {},
   "outputs": [
    {
     "data": {
      "text/plain": [
       "6"
      ]
     },
     "execution_count": 24,
     "metadata": {},
     "output_type": "execute_result"
    }
   ],
   "source": [
    "arr2.size"
   ]
  },
  {
   "cell_type": "code",
   "execution_count": 25,
   "id": "5356a225-4647-4f42-ba7a-e3aa1ec5174f",
   "metadata": {},
   "outputs": [
    {
     "data": {
      "text/plain": [
       "4"
      ]
     },
     "execution_count": 25,
     "metadata": {},
     "output_type": "execute_result"
    }
   ],
   "source": [
    "arr2.itemsize"
   ]
  },
  {
   "cell_type": "code",
   "execution_count": 26,
   "id": "63f236f9-4563-4c3a-9373-dc04cd8b4dba",
   "metadata": {},
   "outputs": [
    {
     "data": {
      "text/plain": [
       "dtype('int32')"
      ]
     },
     "execution_count": 26,
     "metadata": {},
     "output_type": "execute_result"
    }
   ],
   "source": [
    "arr2.dtype"
   ]
  },
  {
   "cell_type": "code",
   "execution_count": 27,
   "id": "1af4728c-19cf-48ab-a2d2-30cd46aaa26b",
   "metadata": {},
   "outputs": [
    {
     "data": {
      "text/plain": [
       "array([[1., 2., 3.],\n",
       "       [4., 5., 6.]])"
      ]
     },
     "execution_count": 27,
     "metadata": {},
     "output_type": "execute_result"
    }
   ],
   "source": [
    "arr2.astype('float')"
   ]
  },
  {
   "cell_type": "code",
   "execution_count": null,
   "id": "d4fb415d-35fd-419b-9154-d7cc96c8930d",
   "metadata": {},
   "outputs": [],
   "source": []
  },
  {
   "cell_type": "markdown",
   "id": "c2096fb6-1072-4017-84f6-97306b5194fd",
   "metadata": {},
   "source": [
    "# Numpy Array Properties and Attributes END"
   ]
  },
  {
   "cell_type": "code",
   "execution_count": null,
   "id": "10e2d883-e7b5-4f16-9084-f535a157ee0e",
   "metadata": {},
   "outputs": [],
   "source": []
  },
  {
   "cell_type": "markdown",
   "id": "2c17dea5-5aea-47d3-8e5f-60f1321d5a81",
   "metadata": {},
   "source": [
    "# Lists vs Arrays START"
   ]
  },
  {
   "cell_type": "markdown",
   "id": "fd6c8e03-95da-4adb-8862-26e1ccea19ec",
   "metadata": {},
   "source": [
    "Numpy arrays are:\n",
    "- Faster\n",
    "- Convenient\n",
    "- Less Memory"
   ]
  },
  {
   "cell_type": "code",
   "execution_count": 6,
   "id": "fbcf970f-4511-4f75-a673-4fcf32c7dbbe",
   "metadata": {},
   "outputs": [],
   "source": [
    "list_a = range(100)\n",
    "arr_a = np.arange(100)"
   ]
  },
  {
   "cell_type": "code",
   "execution_count": 7,
   "id": "1afcfe5c-77e1-4659-a181-cf862556bae4",
   "metadata": {},
   "outputs": [],
   "source": [
    "import sys"
   ]
  },
  {
   "cell_type": "code",
   "execution_count": 8,
   "id": "1f7caa8c-e517-403b-832d-c9d4e1afd03b",
   "metadata": {},
   "outputs": [
    {
     "name": "stdout",
     "output_type": "stream",
     "text": [
      "2800\n"
     ]
    }
   ],
   "source": [
    "print(sys.getsizeof(87)*len(list_a))"
   ]
  },
  {
   "cell_type": "code",
   "execution_count": 9,
   "id": "8f6c6da3-5fd4-4ae7-937c-7758dc75ee0c",
   "metadata": {},
   "outputs": [
    {
     "name": "stdout",
     "output_type": "stream",
     "text": [
      "400\n"
     ]
    }
   ],
   "source": [
    "print(arr_a.itemsize * arr_a.size)"
   ]
  },
  {
   "cell_type": "markdown",
   "id": "8efab199-5344-4f7e-9db3-c894fc6c8745",
   "metadata": {},
   "source": [
    "# Lists vs Arrays END"
   ]
  },
  {
   "cell_type": "code",
   "execution_count": null,
   "id": "1504f450-c5cb-4403-933e-2aeda6005805",
   "metadata": {},
   "outputs": [],
   "source": []
  },
  {
   "cell_type": "markdown",
   "id": "d0497bfd-fb07-427b-b491-512ad10f09cc",
   "metadata": {},
   "source": [
    "# Indexing, Slicing and Iteration START"
   ]
  },
  {
   "cell_type": "code",
   "execution_count": 14,
   "id": "267ca9c9-e914-4173-9643-fd48dab9bbc0",
   "metadata": {},
   "outputs": [
    {
     "data": {
      "text/plain": [
       "array([[ 0,  1,  2,  3],\n",
       "       [ 4,  5,  6,  7],\n",
       "       [ 8,  9, 10, 11],\n",
       "       [12, 13, 14, 15],\n",
       "       [16, 17, 18, 19],\n",
       "       [20, 21, 22, 23]])"
      ]
     },
     "execution_count": 14,
     "metadata": {},
     "output_type": "execute_result"
    }
   ],
   "source": [
    "arr12 = np.arange(24).reshape(6,4)\n",
    "arr12"
   ]
  },
  {
   "cell_type": "code",
   "execution_count": 17,
   "id": "837dafb5-62ab-4d9c-9440-8fc1ad715c53",
   "metadata": {},
   "outputs": [
    {
     "data": {
      "text/plain": [
       "5"
      ]
     },
     "execution_count": 17,
     "metadata": {},
     "output_type": "execute_result"
    }
   ],
   "source": [
    "arr1[4]"
   ]
  },
  {
   "cell_type": "code",
   "execution_count": 18,
   "id": "3aa1bc2c-7049-4f79-ab65-c38dcbbbaf61",
   "metadata": {},
   "outputs": [
    {
     "data": {
      "text/plain": [
       "array([3, 4])"
      ]
     },
     "execution_count": 18,
     "metadata": {},
     "output_type": "execute_result"
    }
   ],
   "source": [
    "arr1[2:4]"
   ]
  },
  {
   "cell_type": "code",
   "execution_count": 19,
   "id": "e328cd59-c194-4a24-810d-db537fa017c3",
   "metadata": {},
   "outputs": [
    {
     "data": {
      "text/plain": [
       "5"
      ]
     },
     "execution_count": 19,
     "metadata": {},
     "output_type": "execute_result"
    }
   ],
   "source": [
    "arr1[-1]"
   ]
  },
  {
   "cell_type": "code",
   "execution_count": 21,
   "id": "ec25cf33-311d-42d6-a350-d415a8030d08",
   "metadata": {},
   "outputs": [
    {
     "data": {
      "text/plain": [
       "array([ 8,  9, 10, 11])"
      ]
     },
     "execution_count": 21,
     "metadata": {},
     "output_type": "execute_result"
    }
   ],
   "source": [
    "arr12[2]"
   ]
  },
  {
   "cell_type": "code",
   "execution_count": 22,
   "id": "7c86fa29-30e7-428d-b69b-08fe2d88432c",
   "metadata": {},
   "outputs": [
    {
     "data": {
      "text/plain": [
       "array([[10, 11]])"
      ]
     },
     "execution_count": 22,
     "metadata": {},
     "output_type": "execute_result"
    }
   ],
   "source": [
    "arr12[2:3,2:4]"
   ]
  },
  {
   "cell_type": "code",
   "execution_count": 23,
   "id": "9ebadad0-1b1e-4bb4-bbf8-ba2625fe4662",
   "metadata": {},
   "outputs": [
    {
     "name": "stdout",
     "output_type": "stream",
     "text": [
      "[0 1 2 3]\n",
      "[4 5 6 7]\n",
      "[ 8  9 10 11]\n",
      "[12 13 14 15]\n",
      "[16 17 18 19]\n",
      "[20 21 22 23]\n"
     ]
    }
   ],
   "source": [
    "for i in arr12:\n",
    "    print(i)"
   ]
  },
  {
   "cell_type": "code",
   "execution_count": 24,
   "id": "e53ef4f1-5a89-4bd9-90be-ad57b57ecf2f",
   "metadata": {},
   "outputs": [
    {
     "name": "stdout",
     "output_type": "stream",
     "text": [
      "0\n",
      "1\n",
      "2\n",
      "3\n",
      "4\n",
      "5\n",
      "6\n",
      "7\n",
      "8\n",
      "9\n",
      "10\n",
      "11\n",
      "12\n",
      "13\n",
      "14\n",
      "15\n",
      "16\n",
      "17\n",
      "18\n",
      "19\n",
      "20\n",
      "21\n",
      "22\n",
      "23\n"
     ]
    }
   ],
   "source": [
    "for i in np.nditer(arr12):\n",
    "    print(i)"
   ]
  },
  {
   "cell_type": "markdown",
   "id": "c358e993-9260-42bb-bff3-de16e0b0dad6",
   "metadata": {},
   "source": [
    "# Indexing, Slicing and Iteration END"
   ]
  },
  {
   "cell_type": "code",
   "execution_count": null,
   "id": "50897cdd-c0a5-4ea1-b7f9-65dda540bd76",
   "metadata": {},
   "outputs": [],
   "source": []
  },
  {
   "cell_type": "markdown",
   "id": "54402f75-9b36-4801-8edf-a20852eddb82",
   "metadata": {},
   "source": [
    "# Numpy Operations START"
   ]
  },
  {
   "cell_type": "code",
   "execution_count": 10,
   "id": "fd5b5a14-1a10-4c73-b19f-fa99f6b472fd",
   "metadata": {},
   "outputs": [
    {
     "data": {
      "text/plain": [
       "array([4, 5, 6, 7, 8, 9])"
      ]
     },
     "execution_count": 10,
     "metadata": {},
     "output_type": "execute_result"
    }
   ],
   "source": [
    "arr1 = np.array([1,2,3,4,5,6])\n",
    "arr2 = np.array([4,5,6,7,8,9])\n",
    "arr2"
   ]
  },
  {
   "cell_type": "code",
   "execution_count": 11,
   "id": "9067e971-b5e5-4d01-9785-8e334be5d49b",
   "metadata": {},
   "outputs": [
    {
     "data": {
      "text/plain": [
       "array([-3, -3, -3, -3, -3, -3])"
      ]
     },
     "execution_count": 11,
     "metadata": {},
     "output_type": "execute_result"
    }
   ],
   "source": [
    "arr1 - arr2"
   ]
  },
  {
   "cell_type": "code",
   "execution_count": 12,
   "id": "4bb79827-5758-4501-aef3-ce137e81cabc",
   "metadata": {},
   "outputs": [
    {
     "data": {
      "text/plain": [
       "array([ 4, 10, 18, 28, 40, 54])"
      ]
     },
     "execution_count": 12,
     "metadata": {},
     "output_type": "execute_result"
    }
   ],
   "source": [
    "arr1 * arr2"
   ]
  },
  {
   "cell_type": "code",
   "execution_count": 13,
   "id": "7e6d8033-b065-4c27-8c74-1a4f4a35e491",
   "metadata": {},
   "outputs": [
    {
     "data": {
      "text/plain": [
       "array([ 2,  4,  6,  8, 10, 12])"
      ]
     },
     "execution_count": 13,
     "metadata": {},
     "output_type": "execute_result"
    }
   ],
   "source": [
    "arr1 * 2"
   ]
  },
  {
   "cell_type": "code",
   "execution_count": 14,
   "id": "e6599846-3dfd-4710-b787-01d4cb301438",
   "metadata": {},
   "outputs": [
    {
     "data": {
      "text/plain": [
       "array([ True,  True,  True,  True,  True,  True])"
      ]
     },
     "execution_count": 14,
     "metadata": {},
     "output_type": "execute_result"
    }
   ],
   "source": [
    "arr2 > 2"
   ]
  },
  {
   "cell_type": "code",
   "execution_count": 19,
   "id": "d5d66ee1-d98b-4d57-8642-4d0e6852d453",
   "metadata": {},
   "outputs": [
    {
     "data": {
      "text/plain": [
       "array([[ 28,  31],\n",
       "       [100, 112]])"
      ]
     },
     "execution_count": 19,
     "metadata": {},
     "output_type": "execute_result"
    }
   ],
   "source": [
    "arr3 = np.arange(6).reshape(2,3)\n",
    "arr4 = np.arange(6,12).reshape(3,2)\n",
    "arr3.dot(arr4)"
   ]
  },
  {
   "cell_type": "code",
   "execution_count": 20,
   "id": "a3fcc2de-80d4-42c8-a446-a7851931f759",
   "metadata": {},
   "outputs": [
    {
     "data": {
      "text/plain": [
       "154"
      ]
     },
     "execution_count": 20,
     "metadata": {},
     "output_type": "execute_result"
    }
   ],
   "source": [
    "arr1.dot(arr2)"
   ]
  },
  {
   "cell_type": "code",
   "execution_count": 21,
   "id": "0dd3203b-d759-40f9-b7f3-8458382927bf",
   "metadata": {},
   "outputs": [
    {
     "data": {
      "text/plain": [
       "6"
      ]
     },
     "execution_count": 21,
     "metadata": {},
     "output_type": "execute_result"
    }
   ],
   "source": [
    "arr4.min()"
   ]
  },
  {
   "cell_type": "code",
   "execution_count": 22,
   "id": "4f58c8ec-854e-4ab2-a31d-348fe2408ade",
   "metadata": {},
   "outputs": [
    {
     "data": {
      "text/plain": [
       "11"
      ]
     },
     "execution_count": 22,
     "metadata": {},
     "output_type": "execute_result"
    }
   ],
   "source": [
    "arr4.max()"
   ]
  },
  {
   "cell_type": "code",
   "execution_count": 23,
   "id": "65cccf9b-6827-4743-95a5-cc3fea9aad80",
   "metadata": {},
   "outputs": [
    {
     "data": {
      "text/plain": [
       "array([6, 7])"
      ]
     },
     "execution_count": 23,
     "metadata": {},
     "output_type": "execute_result"
    }
   ],
   "source": [
    "arr4.min(axis=0)"
   ]
  },
  {
   "cell_type": "code",
   "execution_count": 25,
   "id": "6f31f339-fa04-450d-a285-39b0b4c9d55c",
   "metadata": {},
   "outputs": [
    {
     "data": {
      "text/plain": [
       "array([ 6,  8, 10])"
      ]
     },
     "execution_count": 25,
     "metadata": {},
     "output_type": "execute_result"
    }
   ],
   "source": [
    "arr4.min(axis=1)"
   ]
  },
  {
   "cell_type": "code",
   "execution_count": 26,
   "id": "0e0e6e9a-7f61-4f9d-ab53-176f6f11202d",
   "metadata": {},
   "outputs": [
    {
     "data": {
      "text/plain": [
       "51"
      ]
     },
     "execution_count": 26,
     "metadata": {},
     "output_type": "execute_result"
    }
   ],
   "source": [
    "arr4.sum()"
   ]
  },
  {
   "cell_type": "code",
   "execution_count": 27,
   "id": "8bdad62a-494d-4138-8a0a-722fe0e80003",
   "metadata": {},
   "outputs": [
    {
     "data": {
      "text/plain": [
       "8.5"
      ]
     },
     "execution_count": 27,
     "metadata": {},
     "output_type": "execute_result"
    }
   ],
   "source": [
    "arr4.mean()"
   ]
  },
  {
   "cell_type": "code",
   "execution_count": 30,
   "id": "a70ae34b-f286-40bc-9e1f-79e89211d1fb",
   "metadata": {},
   "outputs": [
    {
     "data": {
      "text/plain": [
       "1.707825127659933"
      ]
     },
     "execution_count": 30,
     "metadata": {},
     "output_type": "execute_result"
    }
   ],
   "source": [
    "arr4.std()"
   ]
  },
  {
   "cell_type": "code",
   "execution_count": 31,
   "id": "d9d61801-d5c6-4896-92c1-64204bb5f651",
   "metadata": {},
   "outputs": [
    {
     "data": {
      "text/plain": [
       "array([[-0.2794155 ,  0.6569866 ],\n",
       "       [ 0.98935825,  0.41211849],\n",
       "       [-0.54402111, -0.99999021]])"
      ]
     },
     "execution_count": 31,
     "metadata": {},
     "output_type": "execute_result"
    }
   ],
   "source": [
    "np.sin(arr4)"
   ]
  },
  {
   "cell_type": "code",
   "execution_count": 32,
   "id": "660f3457-9036-44e2-8f2c-71bf14cb2332",
   "metadata": {},
   "outputs": [
    {
     "data": {
      "text/plain": [
       "8.5"
      ]
     },
     "execution_count": 32,
     "metadata": {},
     "output_type": "execute_result"
    }
   ],
   "source": [
    "np.median(arr4)"
   ]
  },
  {
   "cell_type": "code",
   "execution_count": 33,
   "id": "2f2d6af5-ac20-411d-8795-6078f6bc5d09",
   "metadata": {},
   "outputs": [
    {
     "data": {
      "text/plain": [
       "array([[  403.42879349,  1096.63315843],\n",
       "       [ 2980.95798704,  8103.08392758],\n",
       "       [22026.46579481, 59874.1417152 ]])"
      ]
     },
     "execution_count": 33,
     "metadata": {},
     "output_type": "execute_result"
    }
   ],
   "source": [
    "np.exp(arr4)"
   ]
  },
  {
   "cell_type": "markdown",
   "id": "cbbf6d3a-a4ce-4215-b32d-40df8358aedd",
   "metadata": {},
   "source": [
    "# Numpy Operations END"
   ]
  },
  {
   "cell_type": "code",
   "execution_count": null,
   "id": "302d2da2-1d00-4038-b403-b4cdc007947b",
   "metadata": {},
   "outputs": [],
   "source": []
  },
  {
   "cell_type": "markdown",
   "id": "8a7c4946-62ca-48c2-8044-36e2350d2dd1",
   "metadata": {},
   "source": [
    "# Reshaping Numpy arrays START"
   ]
  },
  {
   "cell_type": "code",
   "execution_count": 34,
   "id": "613d60e0-210a-4a5a-8bed-6d846095e146",
   "metadata": {},
   "outputs": [
    {
     "data": {
      "text/plain": [
       "array([[ 6,  7],\n",
       "       [ 8,  9],\n",
       "       [10, 11]])"
      ]
     },
     "execution_count": 34,
     "metadata": {},
     "output_type": "execute_result"
    }
   ],
   "source": [
    "arr4"
   ]
  },
  {
   "cell_type": "code",
   "execution_count": 35,
   "id": "72a1566f-1c0e-4cb7-a63f-6f4d4a5aff1a",
   "metadata": {},
   "outputs": [
    {
     "data": {
      "text/plain": [
       "array([ 6,  7,  8,  9, 10, 11])"
      ]
     },
     "execution_count": 35,
     "metadata": {},
     "output_type": "execute_result"
    }
   ],
   "source": [
    "arr4.ravel()"
   ]
  },
  {
   "cell_type": "code",
   "execution_count": 37,
   "id": "a545afd3-7b36-4b2a-8ab9-67f81597fc37",
   "metadata": {},
   "outputs": [
    {
     "data": {
      "text/plain": [
       "array([[ 6,  8, 10],\n",
       "       [ 7,  9, 11]])"
      ]
     },
     "execution_count": 37,
     "metadata": {},
     "output_type": "execute_result"
    }
   ],
   "source": [
    "arr4.transpose()"
   ]
  },
  {
   "cell_type": "markdown",
   "id": "9db84d17-831c-4867-a3d7-542aa846a62b",
   "metadata": {},
   "source": [
    "# Reshaping Numpy arrays END"
   ]
  },
  {
   "cell_type": "code",
   "execution_count": null,
   "id": "fbb07c93-ba30-4dab-83b5-3f3b96359253",
   "metadata": {},
   "outputs": [],
   "source": []
  },
  {
   "cell_type": "markdown",
   "id": "2fc23a15-f47f-4997-965a-71b485b18b3e",
   "metadata": {},
   "source": [
    "# Fancy indexing in Numpy START"
   ]
  },
  {
   "cell_type": "code",
   "execution_count": 38,
   "id": "67a46b3c-4708-4e0d-8402-7c5725e907bd",
   "metadata": {},
   "outputs": [
    {
     "data": {
      "text/plain": [
       "array([[ 0,  1,  2,  3],\n",
       "       [ 4,  5,  6,  7],\n",
       "       [ 8,  9, 10, 11],\n",
       "       [12, 13, 14, 15],\n",
       "       [16, 17, 18, 19],\n",
       "       [20, 21, 22, 23]])"
      ]
     },
     "execution_count": 38,
     "metadata": {},
     "output_type": "execute_result"
    }
   ],
   "source": [
    "arr8 = np.arange(24).reshape(6,4)\n",
    "arr8"
   ]
  },
  {
   "cell_type": "code",
   "execution_count": 39,
   "id": "b184e705-aff3-4056-a9ae-c16927a3a6cd",
   "metadata": {},
   "outputs": [
    {
     "data": {
      "text/plain": [
       "array([[ 0,  1,  2,  3],\n",
       "       [ 8,  9, 10, 11],\n",
       "       [16, 17, 18, 19]])"
      ]
     },
     "execution_count": 39,
     "metadata": {},
     "output_type": "execute_result"
    }
   ],
   "source": [
    "arr8[[0,2,4]]"
   ]
  },
  {
   "cell_type": "markdown",
   "id": "9f732b14-2717-47ee-94aa-6e69cbba395d",
   "metadata": {},
   "source": [
    "# Fancy indexing in Numpy END"
   ]
  },
  {
   "cell_type": "code",
   "execution_count": null,
   "id": "76d947d1-a855-46d5-b3fe-4dcf321c52fd",
   "metadata": {},
   "outputs": [],
   "source": []
  },
  {
   "cell_type": "markdown",
   "id": "dd4ea7fd-1e20-424d-b354-f71f4da26547",
   "metadata": {},
   "source": [
    "# Indexing with Boolean Arrays START"
   ]
  },
  {
   "cell_type": "code",
   "execution_count": 3,
   "id": "b829bb0d-265c-4338-a390-e5a843410f43",
   "metadata": {},
   "outputs": [
    {
     "data": {
      "text/plain": [
       "array([[ 4, 32, 84, 68, 27],\n",
       "       [25, 79,  6, 55, 80],\n",
       "       [49, 95, 24, 63, 76],\n",
       "       [45, 79, 16, 37, 16]])"
      ]
     },
     "execution_count": 3,
     "metadata": {},
     "output_type": "execute_result"
    }
   ],
   "source": [
    "arr = np.random.randint(low=1, high=100, size=20).reshape(4,5)\n",
    "arr"
   ]
  },
  {
   "cell_type": "code",
   "execution_count": 5,
   "id": "9792d300-4300-45be-8fc1-c7c6b60d0f74",
   "metadata": {},
   "outputs": [
    {
     "data": {
      "text/plain": [
       "array([ 4, 32, 84, 68, 27])"
      ]
     },
     "execution_count": 5,
     "metadata": {},
     "output_type": "execute_result"
    }
   ],
   "source": [
    "arr[0]"
   ]
  },
  {
   "cell_type": "code",
   "execution_count": 7,
   "id": "2781432f-912d-4ab5-9dda-f8a67d612d91",
   "metadata": {},
   "outputs": [
    {
     "data": {
      "text/plain": [
       "array([84, 68, 79, 55, 80, 95, 63, 76, 79])"
      ]
     },
     "execution_count": 7,
     "metadata": {},
     "output_type": "execute_result"
    }
   ],
   "source": [
    "arr[arr>50]"
   ]
  },
  {
   "cell_type": "code",
   "execution_count": 8,
   "id": "97af54b1-8e76-412d-a49a-c26a26e342cd",
   "metadata": {},
   "outputs": [
    {
     "data": {
      "text/plain": [
       "array([79, 55, 95, 63, 79])"
      ]
     },
     "execution_count": 8,
     "metadata": {},
     "output_type": "execute_result"
    }
   ],
   "source": [
    "arr[(arr>50) & (arr%2!=0)]"
   ]
  },
  {
   "cell_type": "markdown",
   "id": "9bc4611d-62ea-4ec7-a198-99716fadaca3",
   "metadata": {},
   "source": [
    "# Indexing with Boolean Arrays END"
   ]
  },
  {
   "cell_type": "code",
   "execution_count": null,
   "id": "b9ac2182-c32c-4232-9b84-8eb13df5491c",
   "metadata": {},
   "outputs": [],
   "source": []
  }
 ],
 "metadata": {
  "kernelspec": {
   "display_name": "Python 3 (ipykernel)",
   "language": "python",
   "name": "python3"
  },
  "language_info": {
   "codemirror_mode": {
    "name": "ipython",
    "version": 3
   },
   "file_extension": ".py",
   "mimetype": "text/x-python",
   "name": "python",
   "nbconvert_exporter": "python",
   "pygments_lexer": "ipython3",
   "version": "3.11.5"
  }
 },
 "nbformat": 4,
 "nbformat_minor": 5
}
